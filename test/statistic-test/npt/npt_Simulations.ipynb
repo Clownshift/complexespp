{
 "cells": [
  {
   "cell_type": "code",
   "execution_count": 4,
   "metadata": {},
   "outputs": [],
   "source": [
    "%matplotlib inline\n",
    "import matplotlib.pyplot as plt\n",
    "import numpy as np\n",
    "import MDAnalysis as mda\n",
    "import yaml\n",
    "import pandas as pd\n",
    "from string import Template\n",
    "from pycomplexes import convert\n",
    "import itertools"
   ]
  },
  {
   "cell_type": "markdown",
   "metadata": {},
   "source": [
    "Use a system of Argon beads for an npt-Simulation. In this test we check that the correct density \n",
    "if reprocued for a given pressure. This is based on the npt tutorial!"
   ]
  },
  {
   "cell_type": "markdown",
   "metadata": {},
   "source": [
    "# Reference Data"
   ]
  },
  {
   "cell_type": "markdown",
   "metadata": {},
   "source": [
    "In this tutorial, we set up a NPT-Simlation with a number Ar-Atoms. Every particle acts symbolic as a domain for complexes and is simulated as an independent simulation bead.\n",
    "In the following you will be provided reference data for a system of Ar-particles.\n",
    "This system is a basic example of a lennard-jones fluid."
   ]
  },
  {
   "cell_type": "code",
   "execution_count": 1,
   "metadata": {},
   "outputs": [],
   "source": [
    "rho = [0.0025, 0.0059, 0.0102, 0.0128, 0.0153, 0.0178, 0.0204, 0.0229]\n",
    "p = [74.60, 138.12, 295.96, 448.77, 737.1768776714837, 1269.49, 2216.57, 3816.02]\n",
    "reference = pd.DataFrame({'rho':rho,'p':p})"
   ]
  },
  {
   "cell_type": "code",
   "execution_count": 3,
   "metadata": {
    "scrolled": true
   },
   "outputs": [
    {
     "data": {
      "text/plain": [
       "[Text(0,0.5,'Density [$1/\\\\AA$]'), Text(0.5,0,'Pressure [bar]')]"
      ]
     },
     "execution_count": 3,
     "metadata": {},
     "output_type": "execute_result"
    },
    {
     "data": {
      "image/png": "[encoded data removed]",
      "text/plain": [
       "<matplotlib.figure.Figure at 0x7f1e4c7fd780>"
      ]
     },
     "metadata": {},
     "output_type": "display_data"
    }
   ],
   "source": [
    "ax = reference.plot(x='p',y='rho',kind='scatter')\n",
    "ax.set(xlabel='Pressure [bar]', ylabel='Density [$1/\\AA$]')"
   ]
  },
  {
   "cell_type": "code",
   "execution_count": 10,
   "metadata": {},
   "outputs": [],
   "source": [
    "pressure = 75  # Bar\n",
    "n_beads = 125"
   ]
  },
  {
   "cell_type": "code",
   "execution_count": 11,
   "metadata": {},
   "outputs": [],
   "source": [
    "initial_density = 0.01"
   ]
  },
  {
   "cell_type": "markdown",
   "metadata": {},
   "source": [
    "# Prepare initial configuration\n",
    "\n",
    "These are helper functions to create an initial configuration with all Argon beads placed on a regular grid."
   ]
  },
  {
   "cell_type": "code",
   "execution_count": 5,
   "metadata": {},
   "outputs": [],
   "source": [
    "def make_universe(nbeads):\n",
    "    \"\"\"Create MDAnalysis Universe from scratch for manipulation\n",
    "    \"\"\"\n",
    "    u = mda.Universe.empty(nbeads, trajectory=True,\n",
    "                           n_residues=nbeads,\n",
    "                           atom_resindex=np.arange(nbeads),\n",
    "                           n_segments=nbeads,\n",
    "                           residue_segindex=np.arange(nbeads))\n",
    "    u.add_TopologyAttr('names', np.array(['A', ] * nbeads))\n",
    "    u.add_TopologyAttr('resnames', np.array(['AR',]*nbeads))\n",
    "    u.add_TopologyAttr('resids', np.arange(nbeads) + 1)\n",
    "    u.add_TopologyAttr('masses', np.ones(nbeads))\n",
    "    u.add_TopologyAttr('segids', np.array(['A', ] * nbeads))\n",
    "    u.add_TopologyAttr('altLocs')\n",
    "    u.add_TopologyAttr('occupancies', np.ones(nbeads))\n",
    "    u.add_TopologyAttr('icodes')\n",
    "    u.add_TopologyAttr('tempfactors')\n",
    "    return u"
   ]
  },
  {
   "cell_type": "code",
   "execution_count": 6,
   "metadata": {},
   "outputs": [],
   "source": [
    "def density_to_volume(rho, N): # will be in same unit as (1/rho)^3\n",
    "    \"\"\"Calculate ocupied volume for a given density and number of particles\"\"\"\n",
    "    return float(N) / rho"
   ]
  },
  {
   "cell_type": "code",
   "execution_count": 7,
   "metadata": {},
   "outputs": [],
   "source": [
    "def is_cube(n):\n",
    "    cube = np.round(np.cbrt(n))\n",
    "    return cube**3 == n\n",
    "\n",
    "def grid_points(n, boxsize):\n",
    "    \"\"\"equally distance points in a 3D grid\n",
    "    \"\"\"\n",
    "    if not is_cube(n):\n",
    "        raise ValueError('only works if n is a power of 3')\n",
    "    \n",
    "    L = .9 * boxsize\n",
    "    # how many points can I put along once axis\n",
    "    points_per_dim = int(np.round(np.cbrt(n)))\n",
    "    dx = L / (points_per_dim - 1)\n",
    "    \n",
    "    # generate grid points here\n",
    "    points = [np.array(ijk) * dx for ijk in itertools.product(range(points_per_dim), repeat=3)]\n",
    "    return np.array(points) "
   ]
  },
  {
   "cell_type": "code",
   "execution_count": 8,
   "metadata": {},
   "outputs": [],
   "source": [
    "top_tmpl = Template(\"\"\"\n",
    "box: [$box, $box, $box]\n",
    "topology:\n",
    "    Argon:\n",
    "        coordinate-file: $fname\n",
    "        domains: None\n",
    "\"\"\")\n",
    "\n",
    "dom_tmpl = Template(\"\"\"\n",
    "    selection : resnum $i\n",
    "    type: rigid\n",
    "\"\"\")\n",
    "\n",
    "def create_initial_cplx(nbeads, density, fname='ar-sys'):\n",
    "    \"\"\"Create initial cplx system\n",
    "    \"\"\"\n",
    "    box_volume = density_to_volume(density, nbeads)\n",
    "    box_length = np.cbrt(box_volume)\n",
    "    box = np.ones(3) * box_length\n",
    "\n",
    "    u = make_universe(nbeads)\n",
    "    u.atoms.positions = grid_points(nbeads, box_length)\n",
    "    pdb = fname + '.pdb'\n",
    "    u.atoms.write(pdb)\n",
    "    \n",
    "    doms = {'AR-{}'.format(i): yaml.load(dom_tmpl.substitute(i=i)) for i in range(1, nbeads+1)}\n",
    "    top =  yaml.load(top_tmpl.substitute(box=box_length, fname=pdb))\n",
    "    top['topology']['Argon']['domains'] = doms\n",
    "    \n",
    "    \n",
    "    with open(fname + '.cplx', 'w') as fh:\n",
    "        yaml.dump(convert.convert(top, random=False, forcefield='argon.yaml'), fh)"
   ]
  },
  {
   "cell_type": "markdown",
   "metadata": {},
   "source": [
    "Now you can create an initial configuration for your Simulation in a format that complexes can interpret `ar-sys.cplx`.\n"
   ]
  },
  {
   "cell_type": "code",
   "execution_count": 12,
   "metadata": {},
   "outputs": [],
   "source": [
    "create_initial_cplx(n_beads, initial_density)"
   ]
  },
  {
   "cell_type": "code",
   "execution_count": 13,
   "metadata": {},
   "outputs": [
    {
     "data": {
      "text/plain": [
       "0.01"
      ]
     },
     "execution_count": 13,
     "metadata": {},
     "output_type": "execute_result"
    }
   ],
   "source": [
    "initial_density"
   ]
  },
  {
   "cell_type": "markdown",
   "metadata": {},
   "source": [
    "# create npt-config\n",
    "\n",
    "\n",
    "Before you can start the Simulation you need to create a file, that contains all the information, that complexes needs to perform an NPT-Simulation. We now create our configuration file for the simulation. As the maximal delta for the volume moves  we use 10 % of the initial volume. We also set some other parameters for our simulation."
   ]
  },
  {
   "cell_type": "code",
   "execution_count": 15,
   "metadata": {},
   "outputs": [
    {
     "name": "stdout",
     "output_type": "stream",
     "text": [
      "dV =  1250.0\n",
      "pressure =  75\n"
     ]
    }
   ],
   "source": [
    "dV = .1 * density_to_volume(initial_density, n_beads)\n",
    "print(\"dV = \", dV)\n",
    "print(\"pressure = \", pressure)\n",
    "nstructures = 2000 # increase for better sampling"
   ]
  },
  {
   "cell_type": "code",
   "execution_count": 16,
   "metadata": {},
   "outputs": [],
   "source": [
    "config_tmp = Template(\"\"\"\n",
    "structure: ar-sys.cplx\n",
    "montecarlo:\n",
    "  algorithm: npt\n",
    "  algorithm-params: \n",
    "    accept-func: metropolis\n",
    "    dV: $dV\n",
    "    pressure: $pressure\n",
    "    temperatur: 240\n",
    "  equilibration: 0\n",
    "  initial-position: {strategy: ignore}\n",
    "  seed: 1539172181\n",
    "  short-range-cutoff: {enable: false}\n",
    "output: \n",
    "  file: npt.xtc\n",
    "  freq: 10\n",
    "  log: npt-log\n",
    "  nstructures: $nstructures\n",
    "  restart-freq: -1\n",
    "  stat-file: npt.stat\n",
    "\"\"\")"
   ]
  },
  {
   "cell_type": "code",
   "execution_count": 17,
   "metadata": {},
   "outputs": [],
   "source": [
    "with open('npt.conf', 'w') as fh:\n",
    "    fh.write(config_tmp.substitute(pressure=pressure,\n",
    "                                   dV=dV,\n",
    "                                   nstructures=nstructures))"
   ]
  },
  {
   "cell_type": "markdown",
   "metadata": {},
   "source": [
    "You have now created the file npt.conf and therefore everything you need to start your npt-simulation with complexes"
   ]
  },
  {
   "cell_type": "markdown",
   "metadata": {},
   "source": [
    "# run NPT Simulation"
   ]
  },
  {
   "cell_type": "code",
   "execution_count": 18,
   "metadata": {
    "scrolled": true
   },
   "outputs": [
    {
     "name": "stdout",
     "output_type": "stream",
     "text": [
      "^C\n"
     ]
    }
   ],
   "source": [
    "!complexes++ --config=npt.conf 2> /dev/null"
   ]
  },
  {
   "cell_type": "markdown",
   "metadata": {},
   "source": [
    "# screen volume"
   ]
  },
  {
   "cell_type": "markdown",
   "metadata": {},
   "source": [
    "Since we are particularly interested in the behaviour of the volume of our system, we want to extract the volume of the system over the simulation.\n",
    "The following function uses MDAnalysis to do so."
   ]
  },
  {
   "cell_type": "code",
   "execution_count": 17,
   "metadata": {},
   "outputs": [],
   "source": [
    "stat = pd.read_csv('npt.stat')\n",
    "volume = stat.volume"
   ]
  },
  {
   "cell_type": "code",
   "execution_count": 21,
   "metadata": {
    "scrolled": true
   },
   "outputs": [
    {
     "data": {
      "text/plain": [
       "[Text(0,0.5,'volume'), Text(0.5,0,'frames')]"
      ]
     },
     "execution_count": 21,
     "metadata": {},
     "output_type": "execute_result"
    },
    {
     "data": {
      "image/png": "[encoded data removed]",
      "text/plain": [
       "<matplotlib.figure.Figure at 0x7f1e4c1ae0f0>"
      ]
     },
     "metadata": {},
     "output_type": "display_data"
    }
   ],
   "source": [
    "f,axs = plt.subplots()\n",
    "axs.plot(volume)\n",
    "axs.set(xlabel ='frames', ylabel='volume')"
   ]
  },
  {
   "cell_type": "code",
   "execution_count": 22,
   "metadata": {},
   "outputs": [],
   "source": [
    "def volume_to_density(vol, nbeads):\n",
    "    return nbeads / float(vol)"
   ]
  },
  {
   "cell_type": "code",
   "execution_count": 23,
   "metadata": {},
   "outputs": [],
   "source": [
    "mean_vol = volume[1000:].mean()"
   ]
  },
  {
   "cell_type": "code",
   "execution_count": 35,
   "metadata": {
    "scrolled": true
   },
   "outputs": [
    {
     "data": {
      "image/png": "[encoded data removed]",
      "text/plain": [
       "<matplotlib.figure.Figure at 0x7f1e4ba8b0f0>"
      ]
     },
     "metadata": {},
     "output_type": "display_data"
    }
   ],
   "source": [
    "fig, ax = plt.subplots()\n",
    "ax.plot([pressure,], [volume_to_density(mean_vol, n_beads)], 'o', markersize=8,\n",
    "        label='Complexes Simulation', c='none', zorder=1, markeredgecolor='C1')\n",
    "\n",
    "\n",
    "ax = reference.plot(x='p',y='rho',kind='scatter', label='Reference',ax=ax, zorder=2)\n",
    "ax.set(xlabel='Pressure [bar]', ylabel='Density [$1/\\AA$]')\n",
    "\n",
    "ax.legend();"
   ]
  },
  {
   "cell_type": "code",
   "execution_count": null,
   "metadata": {},
   "outputs": [],
   "source": []
  }
 ],
 "metadata": {
  "kernelspec": {
   "display_name": "Python [default]",
   "language": "python",
   "name": "python3"
  },
  "language_info": {
   "codemirror_mode": {
    "name": "ipython",
    "version": 3
   },
   "file_extension": ".py",
   "mimetype": "text/x-python",
   "name": "python",
   "nbconvert_exporter": "python",
   "pygments_lexer": "ipython3",
   "version": "3.6.5"
  }
 },
 "nbformat": 4,
 "nbformat_minor": 2
}
